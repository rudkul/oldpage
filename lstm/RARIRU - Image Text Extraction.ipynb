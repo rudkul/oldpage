{
 "cells": [
  {
   "cell_type": "markdown",
   "id": "f97a7197",
   "metadata": {},
   "source": [
    "<center>\n",
    "    <u><h2>Image Text Extraction - Team RaRiRu</h2></u>\n",
    "</center>"
   ]
  },
  {
   "cell_type": "markdown",
   "id": "deb8ba68",
   "metadata": {},
   "source": [
    "<h3>What is our project, OldPage?</h3>\n",
    "\n",
    "<p>OldPage is an Optical Character Recognition tool (OCR) which can be used to extract written text from different types image files. Image text extraction can be used by both of the ways; using command terminal and api implementations. </p>\n",
    "\n",
    "<p>OldPage has unicode (UTF-8) support and can recognize more than <b>100 languages</b>.</p>\n",
    "\n",
    "<p>OldPage support various kind of output formats such as: <b>plain text</b>, <b>HTML</b>, <b>PDF</b>, <b>TSV</b>, <b>XML</b>.</p> \n",
    "\n",
    "<p>Accuracy and integrity of the output from OldPage is totally depends on the <u>quality of input image</u></p>"
   ]
  },
  {
   "cell_type": "markdown",
   "id": "b9ab2cf2",
   "metadata": {},
   "source": [
    "<u>\n",
    "<h4>Import modules</h4>\n",
    "</u>"
   ]
  },
  {
   "cell_type": "code",
   "execution_count": 1,
   "id": "c55164ac",
   "metadata": {},
   "outputs": [],
   "source": [
    "import os # To import test image files\n",
    "import cv2 # To work with opencv images\n",
    "from PIL import Image # Image submodule to work with pillow images\n",
    "import pytesseract as pt # pytesseract module"
   ]
  },
  {
   "cell_type": "code",
   "execution_count": 13,
   "id": "5efb1957",
   "metadata": {},
   "outputs": [
    {
     "name": "stdout",
     "output_type": "stream",
     "text": [
      "1.jpg\n",
      "2.png\n",
      "3.jpg\n",
      "4.gif\n",
      "4.png\n"
     ]
    }
   ],
   "source": [
    "test_img_path = r\"C:\\Users\\admin\\Desktop\\test_images\"\n",
    "create_path = lambda f : os.path.join(test_img_path, f)\n",
    "\n",
    "test_image_files = os.listdir(test_img_path)\n",
    "\n",
    "for f in test_image_files:\n",
    "    print(f)"
   ]
  },
  {
   "cell_type": "code",
   "execution_count": 3,
   "id": "02342b12",
   "metadata": {},
   "outputs": [],
   "source": [
    "def show_image(img_path, size=(500, 500)):\n",
    "    image = cv2.imread(img_path)\n",
    "    image = cv2.resize(image, size)\n",
    "    \n",
    "    cv2.imshow(\"IMAGE\", image)\n",
    "    cv2.waitKey(0)\n",
    "    cv2.destroyAllWindows()"
   ]
  },
  {
   "cell_type": "code",
   "execution_count": 4,
   "id": "32e2fbb3",
   "metadata": {},
   "outputs": [],
   "source": [
    "# optional: only if you haven't configured PATH\n",
    "pt.pytesseract.tesseract_cmd = r\"C:\\Users\\admin\\AppData\\Local\\Tesseract-OCR\\tesseract.exe\""
   ]
  },
  {
   "cell_type": "markdown",
   "id": "4202745a",
   "metadata": {},
   "source": [
    "<u>\n",
    "<h4>Available Languages in OldPage</h4>\n",
    "</u>"
   ]
  },
  {
   "cell_type": "code",
   "execution_count": 5,
   "id": "43c400d7",
   "metadata": {},
   "outputs": [
    {
     "name": "stdout",
     "output_type": "stream",
     "text": [
      "afr\n",
      "amh\n",
      "ara\n",
      "asm\n",
      "aze\n",
      "aze_cyrl\n",
      "bel\n",
      "ben\n",
      "bod\n",
      "bos\n",
      "bre\n",
      "bul\n",
      "cat\n",
      "ceb\n",
      "ces\n",
      "chi_sim\n",
      "chi_sim_vert\n",
      "chi_tra\n",
      "chi_tra_vert\n",
      "chr\n",
      "cos\n",
      "cym\n",
      "dan\n",
      "deu\n",
      "div\n",
      "dzo\n",
      "ell\n",
      "eng\n",
      "enm\n",
      "epo\n",
      "equ\n",
      "est\n",
      "eus\n",
      "fao\n",
      "fas\n",
      "fil\n",
      "fin\n",
      "fra\n",
      "frk\n",
      "frm\n",
      "fry\n",
      "gla\n",
      "gle\n",
      "glg\n",
      "grc\n",
      "guj\n",
      "hat\n",
      "heb\n",
      "hin\n",
      "hrv\n",
      "hun\n",
      "hye\n",
      "iku\n",
      "ind\n",
      "isl\n",
      "ita\n",
      "ita_old\n",
      "jav\n",
      "jpn\n",
      "jpn_vert\n",
      "kan\n",
      "kat\n",
      "kat_old\n",
      "kaz\n",
      "khm\n",
      "kir\n",
      "kmr\n",
      "kor\n",
      "lao\n",
      "lat\n",
      "lav\n",
      "lit\n",
      "ltz\n",
      "mal\n",
      "mar\n",
      "mkd\n",
      "mlt\n",
      "mon\n",
      "mri\n",
      "msa\n",
      "mya\n",
      "nep\n",
      "nld\n",
      "nor\n",
      "oci\n",
      "ori\n",
      "osd\n",
      "pan\n",
      "pol\n",
      "por\n",
      "pus\n",
      "que\n",
      "ron\n",
      "rus\n",
      "san\n",
      "sin\n",
      "slk\n",
      "slv\n",
      "snd\n",
      "spa\n",
      "spa_old\n",
      "sqi\n",
      "srp\n",
      "srp_latn\n",
      "sun\n",
      "swa\n",
      "swe\n",
      "syr\n",
      "tam\n",
      "tat\n",
      "tel\n",
      "tgk\n",
      "tha\n",
      "tir\n",
      "ton\n",
      "tur\n",
      "uig\n",
      "ukr\n",
      "urd\n",
      "uzb\n",
      "uzb_cyrl\n",
      "vie\n",
      "yid\n",
      "yor\n"
     ]
    }
   ],
   "source": [
    "# using cmd: tesseract --list-langs\n",
    "avb_langs = pt.get_languages(config='')\n",
    "\n",
    "for lang in avb_langs:\n",
    "    print(lang)"
   ]
  },
  {
   "cell_type": "markdown",
   "id": "da280744",
   "metadata": {},
   "source": [
    "<u>\n",
    "<h4>Extract text from an image : Simple</h4>\n",
    "</u>"
   ]
  },
  {
   "cell_type": "code",
   "execution_count": 6,
   "id": "3eaa51e7",
   "metadata": {},
   "outputs": [
    {
     "name": "stdout",
     "output_type": "stream",
     "text": [
      "Every path is\n",
      "the right path.\n",
      "\n"
     ]
    }
   ],
   "source": [
    "image_path = test_image_files[2] # 2, 3, 12, 1, 13, 15\n",
    "path = create_path(image_path)\n",
    "\n",
    "image = Image.open(path)\n",
    "text = pt.image_to_string(image)\n",
    "\n",
    "print(text)\n",
    "show_image(path)"
   ]
  },
  {
   "cell_type": "markdown",
   "id": "d5101426",
   "metadata": {},
   "source": [
    "<u>\n",
    "    <h4>Extract text from an image : Specifying a language</h4>\n",
    "</u>"
   ]
  },
  {
   "cell_type": "code",
   "execution_count": 14,
   "id": "8042502c",
   "metadata": {},
   "outputs": [
    {
     "name": "stdout",
     "output_type": "stream",
     "text": [
      "जानवरों में गधा सबसे ज्यादा बुद्धिहीन समझता जाता है । हम जब किसी\n",
      "आदमी को पहले दर्ज का बेवकूफ कहना चाहते हैं, तो उसे गधा कहते हैं।\n",
      "गधा सचमुच बेवकूफ है, या उसके सीधेपन, उसकी निरापद सहिष्णुता ने\n",
      "उसे यह पदवी दे दी है, इसका निश्चय नहीं किया जा सकता। गायें सिंग\n",
      "मारती हैं, ब्यायी हुई गाय तो अनायास ही सिंहनी का रूप धारण कर लेती\n",
      "है। कुत्ता भी बहुत गरीब जानवर है। लेकिन कभी-कभी उसे भी क्रोध आ ही\n",
      "जाता है, किन्तु गधे को कभी क्रोध करते नहीं सुना, न देखा। जितना चाहो\n",
      "गरीब को मारो, चाहे जैसी ख़राब, सड़ी हुई घास सामने सामने डाल दो,\n",
      "उसे चेहरे पर कभी असन्तोष की छाया भी न दिखायी देगी। वैशाख में चाहे\n",
      "एखाध बार कुलेल कर लेता हो, पर हमने तो उसे कभी खुश नहीं देखा।\n",
      "उसके चेहरे पर एक स्थायी विषाद स्थायी रूप से छाया रहता है। सुख-दुःख,\n",
      "हानि-लाभ, किसी भी दशा में उसे बदलते नहीं देखा। ऋषियों -मुनियों के\n",
      "जितने गुण हैं, वे सभी उसमें पराकाष्ठा को पहुंच गये हैं, पर आदमी उसे\n",
      "बेवकूफ कहता है। सद्ुणों का इतना अनादर कहीं नहीं देखा।\n",
      "\n",
      "\n"
     ]
    },
    {
     "ename": "error",
     "evalue": "OpenCV(4.6.0) D:\\a\\opencv-python\\opencv-python\\opencv\\modules\\imgproc\\src\\resize.cpp:4052: error: (-215:Assertion failed) !ssize.empty() in function 'cv::resize'\n",
     "output_type": "error",
     "traceback": [
      "\u001b[1;31m---------------------------------------------------------------------------\u001b[0m",
      "\u001b[1;31merror\u001b[0m                                     Traceback (most recent call last)",
      "Cell \u001b[1;32mIn [14], line 8\u001b[0m\n\u001b[0;32m      5\u001b[0m text \u001b[38;5;241m=\u001b[39m pt\u001b[38;5;241m.\u001b[39mimage_to_string(image, lang\u001b[38;5;241m=\u001b[39m\u001b[38;5;124m'\u001b[39m\u001b[38;5;124mhin\u001b[39m\u001b[38;5;124m'\u001b[39m)\n\u001b[0;32m      7\u001b[0m \u001b[38;5;28mprint\u001b[39m(text)\n\u001b[1;32m----> 8\u001b[0m \u001b[43mshow_image\u001b[49m\u001b[43m(\u001b[49m\u001b[43mpath\u001b[49m\u001b[43m)\u001b[49m\n",
      "Cell \u001b[1;32mIn [3], line 3\u001b[0m, in \u001b[0;36mshow_image\u001b[1;34m(img_path, size)\u001b[0m\n\u001b[0;32m      1\u001b[0m \u001b[38;5;28;01mdef\u001b[39;00m \u001b[38;5;21mshow_image\u001b[39m(img_path, size\u001b[38;5;241m=\u001b[39m(\u001b[38;5;241m500\u001b[39m, \u001b[38;5;241m500\u001b[39m)):\n\u001b[0;32m      2\u001b[0m     image \u001b[38;5;241m=\u001b[39m cv2\u001b[38;5;241m.\u001b[39mimread(img_path)\n\u001b[1;32m----> 3\u001b[0m     image \u001b[38;5;241m=\u001b[39m \u001b[43mcv2\u001b[49m\u001b[38;5;241;43m.\u001b[39;49m\u001b[43mresize\u001b[49m\u001b[43m(\u001b[49m\u001b[43mimage\u001b[49m\u001b[43m,\u001b[49m\u001b[43m \u001b[49m\u001b[43msize\u001b[49m\u001b[43m)\u001b[49m\n\u001b[0;32m      5\u001b[0m     cv2\u001b[38;5;241m.\u001b[39mimshow(\u001b[38;5;124m\"\u001b[39m\u001b[38;5;124mIMAGE\u001b[39m\u001b[38;5;124m\"\u001b[39m, image)\n\u001b[0;32m      6\u001b[0m     cv2\u001b[38;5;241m.\u001b[39mwaitKey(\u001b[38;5;241m0\u001b[39m)\n",
      "\u001b[1;31merror\u001b[0m: OpenCV(4.6.0) D:\\a\\opencv-python\\opencv-python\\opencv\\modules\\imgproc\\src\\resize.cpp:4052: error: (-215:Assertion failed) !ssize.empty() in function 'cv::resize'\n"
     ]
    }
   ],
   "source": [
    "image_path = test_image_files[3]\n",
    "path = create_path(image_path)\n",
    "\n",
    "image = Image.open(path)\n",
    "text = pt.image_to_string(image, lang='hin')\n",
    "\n",
    "print(text)\n",
    "show_image(path)"
   ]
  },
  {
   "cell_type": "markdown",
   "id": "a159d83c",
   "metadata": {},
   "source": [
    "<u>\n",
    "    <h4>Extract text from an image : Multiple images once</h4>\n",
    "</u>"
   ]
  },
  {
   "cell_type": "code",
   "execution_count": 17,
   "id": "d986ff36",
   "metadata": {},
   "outputs": [
    {
     "name": "stdout",
     "output_type": "stream",
     "text": [
      "\\Ne Staet With Good\n",
      "\n",
      "Gecause all businesses should\n",
      "\n",
      "be cole) soon good.\n",
      "\f",
      "Wou\n",
      "ti\n",
      "\n",
      "\f",
      "Every path is\n",
      "the right path.\n",
      "\n"
     ]
    }
   ],
   "source": [
    "img_name_txt_file = r\"C:\\Users\\admin\\Desktop\\test_images\\image-paths.txt\"\n",
    "text = pt.image_to_string(img_name_txt_file, lang='eng')\n",
    "\n",
    "print(text)"
   ]
  },
  {
   "cell_type": "markdown",
   "id": "823b9951",
   "metadata": {},
   "source": [
    "<u>\n",
    "    <h4>Extract text from an image : Timeout extraction</h4>\n",
    "</u>"
   ]
  },
  {
   "cell_type": "code",
   "execution_count": 18,
   "id": "1db91492",
   "metadata": {},
   "outputs": [
    {
     "name": "stdout",
     "output_type": "stream",
     "text": [
      "Every path is\n",
      "the right path.\n",
      "\n"
     ]
    }
   ],
   "source": [
    "path = create_path(\"3.jpg\")\n",
    "\n",
    "image = Image.open(path)\n",
    "text = 'NO TEXT TO BE APPEARED'\n",
    "\n",
    "try:\n",
    "    text = pt.image_to_string(image, lang='eng', timeout=5) #time in seconds can be specified here\n",
    "except RuntimeError as timeout_error:\n",
    "    print(\"[TIMEOUT ERROR]\")\n",
    "\n",
    "print(text)\n",
    "show_image(path)"
   ]
  },
  {
   "cell_type": "markdown",
   "id": "adceb489",
   "metadata": {},
   "source": [
    "<u>\n",
    "    <h4>Get bounding box estimates</h4>\n",
    "</u>"
   ]
  },
  {
   "cell_type": "code",
   "execution_count": 19,
   "id": "d7878bcf",
   "metadata": {},
   "outputs": [
    {
     "name": "stdout",
     "output_type": "stream",
     "text": [
      "E 17 87 53 129 0\n",
      "v 46 74 68 129 0\n",
      "e 54 86 85 115 0\n",
      "r 87 86 111 116 0\n",
      "y 113 74 165 116 0\n",
      "p 179 74 195 131 0\n",
      "a 179 74 209 116 0\n",
      "t 213 86 256 125 0\n",
      "h 256 87 287 131 0\n",
      "i 304 87 319 131 0\n",
      "s 323 86 342 116 0\n",
      "t 8 25 25 63 0\n",
      "h 25 25 56 69 0\n",
      "e 58 25 82 54 0\n",
      "r 99 25 121 54 0\n",
      "i 122 25 136 69 0\n",
      "g 139 12 167 54 0\n",
      "h 168 25 199 69 0\n",
      "t 200 25 217 63 0\n",
      "p 232 12 261 54 0\n",
      "a 253 12 275 69 0\n",
      "t 265 25 309 63 0\n",
      "h 301 12 324 69 0\n",
      ". 308 25 351 69 0\n",
      "\n"
     ]
    }
   ],
   "source": [
    "path = create_path(\"3.jpg\")\n",
    "\n",
    "image = Image.open(path)\n",
    "bound_rects = pt.image_to_boxes(image, lang='eng')\n",
    "\n",
    "print(bound_rects)\n",
    "show_image(path)"
   ]
  },
  {
   "cell_type": "code",
   "execution_count": 20,
   "id": "a599003d",
   "metadata": {},
   "outputs": [],
   "source": [
    "img = cv2.imread(path)\n",
    "h, _, _ = img.shape\n",
    "\n",
    "for b in bound_rects.splitlines():\n",
    "    b = b.strip().split(' ')\n",
    "    img = cv2.rectangle(img, (int(b[1]), h - int(b[2])), (int(b[3]), h - int(b[4])), (0, 255, 0), 2)\n",
    "\n",
    "cv2.imshow(\"CHARACTERIZED IMAGE\", img)\n",
    "cv2.waitKey(0)\n",
    "cv2.destroyAllWindows()"
   ]
  },
  {
   "cell_type": "markdown",
   "id": "bbc947db",
   "metadata": {},
   "source": [
    "<u>\n",
    "    <h4>Get verbose data including boxes, confidences, line and page numbers</h4>\n",
    "</u>"
   ]
  },
  {
   "cell_type": "code",
   "execution_count": 21,
   "id": "8f3b5d26",
   "metadata": {},
   "outputs": [
    {
     "name": "stdout",
     "output_type": "stream",
     "text": [
      "level\tpage_num\tblock_num\tpar_num\tline_num\tword_num\tleft\ttop\twidth\theight\tconf\ttext\n",
      "1\t1\t0\t0\t0\t0\t0\t0\t362\t139\t-1\t\n",
      "2\t1\t1\t0\t0\t0\t8\t8\t343\t119\t-1\t\n",
      "3\t1\t1\t1\t0\t0\t8\t8\t343\t119\t-1\t\n",
      "4\t1\t1\t1\t1\t0\t17\t8\t325\t57\t-1\t\n",
      "5\t1\t1\t1\t1\t1\t17\t10\t148\t55\t91.483932\tEvery\n",
      "5\t1\t1\t1\t1\t2\t179\t8\t108\t57\t96.478256\tpath\n",
      "5\t1\t1\t1\t1\t3\t304\t8\t38\t45\t96.621849\tis\n",
      "4\t1\t1\t1\t2\t0\t8\t70\t343\t57\t-1\t\n",
      "5\t1\t1\t1\t2\t1\t8\t70\t74\t44\t96.494797\tthe\n",
      "5\t1\t1\t1\t2\t2\t99\t70\t118\t57\t87.497894\tright\n",
      "5\t1\t1\t1\t2\t3\t232\t70\t119\t57\t93.412811\tpath.\n",
      "\n"
     ]
    }
   ],
   "source": [
    "image_path = test_image_files[2]\n",
    "path = create_path(image_path)\n",
    "\n",
    "image = Image.open(path)\n",
    "text = pt.image_to_data(image)\n",
    "\n",
    "print(text)\n",
    "show_image(path)"
   ]
  },
  {
   "cell_type": "markdown",
   "id": "45323623",
   "metadata": {},
   "source": [
    "<u>\n",
    "    <h4>Get information about orientation and script detection</h4>\n",
    "</u>"
   ]
  },
  {
   "cell_type": "code",
   "execution_count": 23,
   "id": "d73bc9ac",
   "metadata": {},
   "outputs": [
    {
     "name": "stdout",
     "output_type": "stream",
     "text": [
      "Page number: 0\n",
      "Orientation in degrees: 270\n",
      "Rotate: 90\n",
      "Orientation confidence: 32.00\n",
      "Script: Latin\n",
      "Script confidence: 2.00\n",
      "\n"
     ]
    }
   ],
   "source": [
    "image_path = \"1.jpg\" # news-2.jpg hindi-news-1.jpg hindi-news-2.jpg hindi-text-1.jpg\n",
    "path = create_path(image_path)\n",
    "\n",
    "print(pt.image_to_osd(path, lang='eng'))"
   ]
  },
  {
   "cell_type": "markdown",
   "id": "b7a62b0c",
   "metadata": {},
   "source": [
    "<u>\n",
    "    <h4>Convert in to different file formats (PDF, XML, HOCR)</h4>\n",
    "</u>"
   ]
  },
  {
   "cell_type": "code",
   "execution_count": 24,
   "id": "44b1e649",
   "metadata": {},
   "outputs": [],
   "source": [
    "image_path = \"3.jpg\"\n",
    "path = create_path(image_path)\n",
    "file_save_path = r\"C:\\Users\\admin\\Desktop\\file_save\""
   ]
  },
  {
   "cell_type": "code",
   "execution_count": 25,
   "id": "43101f91",
   "metadata": {},
   "outputs": [],
   "source": [
    "pdf = pt.image_to_pdf_or_hocr(path, extension='pdf')\n",
    "\n",
    "file = open(os.path.join(file_save_path, \"pdf-content.pdf\"), 'w+b')\n",
    "file.write(pdf)\n",
    "file.close()"
   ]
  },
  {
   "cell_type": "code",
   "execution_count": 26,
   "id": "231130d0",
   "metadata": {},
   "outputs": [],
   "source": [
    "# hocr: open standard of data representation for formatted text obtained from (OCR)\n",
    "hocr = pt.image_to_pdf_or_hocr(path, extension='hocr')\n",
    "\n",
    "file = open(os.path.join(file_save_path, \"hocr-content.html\"), 'w+b')\n",
    "file.write(hocr)\n",
    "file.close()"
   ]
  },
  {
   "cell_type": "code",
   "execution_count": 27,
   "id": "9b082d57",
   "metadata": {},
   "outputs": [],
   "source": [
    "xml = pt.image_to_alto_xml(path)\n",
    "\n",
    "file = open(os.path.join(file_save_path, \"xml-content.xml\"), 'w+b')\n",
    "file.write(xml)\n",
    "file.close()"
   ]
  },
  {
   "cell_type": "markdown",
   "id": "4ce8645a",
   "metadata": {},
   "source": [
    "<u>\n",
    "    <h4>Forcefully assigning different assumptions (Custom Configurations)</h4>\n",
    "</u>"
   ]
  },
  {
   "cell_type": "markdown",
   "id": "96348486",
   "metadata": {},
   "source": [
    "<b>OEM</b> : OCR Engine Mode (Type of the algorithm used by tesseract)<br>\n",
    "<b>PEM</b> : Page Segmentation Mode (Page semgentation mode used by tesseract)<br><br>\n",
    " \n",
    "<h4>Page Segmentation Modes</h4><hr>\n",
    "<div style=\"font-size:13px;\">\n",
    "\n",
    "    \n",
    "0 - Orientation and script detection(OSD) only.<br>\n",
    "1 - Automatic page segmentation with OSD.<br>\n",
    "2 - Automatic page segmentation, but no OSD, or OCR.<br>\n",
    "3 - Fully automatic page segmentation, but no OSD.(Default)<br>\n",
    "4 - Assume a single column of text of variable sizes.<br>\n",
    "5 - Assume a single uniform block of vertically aligned text.<br>\n",
    "6 - Assume a single uniform block of text.<br>\n",
    "7 - Treat the image as a single text line.<br>\n",
    "8 - Treat the image as a single word.<br>\n",
    "9 - Treat the image as a single word in a circle.<br>\n",
    "10 - Treat the image as a single character.<br>\n",
    "11 - Sparse text.Find as much text as possible in no particular order.<br>\n",
    "12 - Sparse text with OSD.<br>\n",
    "13 - Raw line.Treat the image as a single text line, bypassing hacks that are Tesseract - specific.<br>\n",
    "</div>"
   ]
  },
  {
   "cell_type": "code",
   "execution_count": 28,
   "id": "a96cdde5",
   "metadata": {},
   "outputs": [
    {
     "data": {
      "text/plain": [
       "'Reena\\n'"
      ]
     },
     "execution_count": 28,
     "metadata": {},
     "output_type": "execute_result"
    }
   ],
   "source": [
    "image_path = \"3.jpg\"\n",
    "path = create_path(image_path)\n",
    "custom_oem_psm_config = r'--oem 3 --psm 9'\n",
    "\n",
    "image = Image.open(path)\n",
    "pt.image_to_string(image, config=custom_oem_psm_config)"
   ]
  },
  {
   "cell_type": "code",
   "execution_count": null,
   "id": "b56c7684",
   "metadata": {},
   "outputs": [],
   "source": []
  }
 ],
 "metadata": {
  "kernelspec": {
   "display_name": "Python 3 (ipykernel)",
   "language": "python",
   "name": "python3"
  },
  "language_info": {
   "codemirror_mode": {
    "name": "ipython",
    "version": 3
   },
   "file_extension": ".py",
   "mimetype": "text/x-python",
   "name": "python",
   "nbconvert_exporter": "python",
   "pygments_lexer": "ipython3",
   "version": "3.10.7"
  }
 },
 "nbformat": 4,
 "nbformat_minor": 5
}
